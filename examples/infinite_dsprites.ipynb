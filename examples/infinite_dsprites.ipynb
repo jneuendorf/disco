{
 "cells": [
  {
   "attachments": {},
   "cell_type": "markdown",
   "metadata": {},
   "source": [
    "### Infinite dSprites\n",
    "\n",
    "#### Introduction\n",
    "The 'InfiniteDSprites` dataset is an infinite streams of 2D sprites undergoing translation, rotation, and scaling. It is an extension of [dSprites](https://github.com/deepmind/dsprites-dataset).\n",
    "\n",
    "#### Quick start\n",
    "To start, create an instance of `InfiniteDSprites`. It is a subclass of PyTorch `IterableDataset`, so it is possible to iterate over it using a `DataLoader`."
   ]
  },
  {
   "cell_type": "code",
   "execution_count": null,
   "metadata": {},
   "outputs": [],
   "source": [
    "from torch.utils.data import DataLoader\n",
    "\n",
    "from codis.data import InfiniteDSprites\n",
    "from codis.visualization import draw_batch_grid\n",
    "\n",
    "dataset = InfiniteDSprites()\n",
    "dataloader = DataLoader(dataset, batch_size=16)\n",
    "batch_img, _ = next(iter(dataloader))\n",
    "draw_batch_grid(batch_img, show=True)"
   ]
  }
 ],
 "metadata": {
  "kernelspec": {
   "display_name": "venv",
   "language": "python",
   "name": "python3"
  },
  "language_info": {
   "codemirror_mode": {
    "name": "ipython",
    "version": 3
   },
   "file_extension": ".py",
   "mimetype": "text/x-python",
   "name": "python",
   "nbconvert_exporter": "python",
   "pygments_lexer": "ipython3",
   "version": "3.9.0"
  },
  "vscode": {
   "interpreter": {
    "hash": "54d4496e6e5259cb311381f33bb97274e5d99c445dc08682f685e4eb76f2643d"
   }
  }
 },
 "nbformat": 4,
 "nbformat_minor": 2
}
